{
 "cells": [
  {
   "cell_type": "markdown",
   "metadata": {},
   "source": [
    "# Quadrea of Projective Triangle From Exemplary Transformation\n",
    "\n",
    "<img src=\"Spherical Geometry Triangle.png\">\n"
   ]
  },
  {
   "cell_type": "code",
   "execution_count": 1,
   "metadata": {},
   "outputs": [],
   "source": [
    "import numpy as np"
   ]
  },
  {
   "cell_type": "code",
   "execution_count": 2,
   "metadata": {},
   "outputs": [
    {
     "data": {
      "text/plain": [
       "array([[0.98790968, 0.59738496, 0.15443552],\n",
       "       [0.89996412, 0.4243651 , 0.89873798],\n",
       "       [0.5517799 , 0.98088507, 0.22513405]])"
      ]
     },
     "execution_count": 2,
     "metadata": {},
     "output_type": "execute_result"
    }
   ],
   "source": [
    "A = np.random.rand(3,3)\n",
    "A"
   ]
  },
  {
   "cell_type": "code",
   "execution_count": 3,
   "metadata": {},
   "outputs": [],
   "source": [
    "p = A[0,:]\n",
    "q = A[1,:]\n",
    "s = A[2,:]"
   ]
  },
  {
   "cell_type": "code",
   "execution_count": 4,
   "metadata": {},
   "outputs": [],
   "source": [
    "p = p / np.linalg.norm(p)\n",
    "q = q / np.linalg.norm(q)\n",
    "s = s / np.linalg.norm(s)"
   ]
  },
  {
   "cell_type": "code",
   "execution_count": 5,
   "metadata": {},
   "outputs": [
    {
     "data": {
      "text/plain": [
       "array([[0.14180851, 0.73447195, 0.81933023],\n",
       "       [0.69250573, 0.02756186, 0.34199189],\n",
       "       [0.68007066, 0.0765425 , 0.662035  ]])"
      ]
     },
     "execution_count": 5,
     "metadata": {},
     "output_type": "execute_result"
    }
   ],
   "source": [
    "B = np.random.rand(3,3)\n",
    "B"
   ]
  },
  {
   "cell_type": "code",
   "execution_count": 6,
   "metadata": {},
   "outputs": [],
   "source": [
    "P = B[0,:]\n",
    "Q = B[1,:]\n",
    "S = B[2,:]"
   ]
  },
  {
   "cell_type": "code",
   "execution_count": 7,
   "metadata": {},
   "outputs": [],
   "source": [
    "P = P / np.linalg.norm(P)\n",
    "Q = Q / np.linalg.norm(Q)\n",
    "S = S / np.linalg.norm(S)"
   ]
  },
  {
   "cell_type": "code",
   "execution_count": 8,
   "metadata": {},
   "outputs": [
    {
     "name": "stdout",
     "output_type": "stream",
     "text": [
      "[ 0.51077454 -0.19058887 -0.42147935]\n"
     ]
    }
   ],
   "source": [
    "sq = np.cross(s,q)\n",
    "print(sq)"
   ]
  },
  {
   "cell_type": "code",
   "execution_count": 9,
   "metadata": {},
   "outputs": [
    {
     "name": "stdout",
     "output_type": "stream",
     "text": [
      "[-0.01271044 -0.1026285   0.47829339]\n"
     ]
    }
   ],
   "source": [
    "ps = np.cross(p,s)\n",
    "print(ps)"
   ]
  },
  {
   "cell_type": "code",
   "execution_count": 10,
   "metadata": {},
   "outputs": [
    {
     "name": "stdout",
     "output_type": "stream",
     "text": [
      "[-0.30181745  0.47952493  0.07580767]\n"
     ]
    }
   ],
   "source": [
    "qp = np.cross(q,p)\n",
    "print(qp)"
   ]
  },
  {
   "cell_type": "code",
   "execution_count": 11,
   "metadata": {},
   "outputs": [
    {
     "name": "stdout",
     "output_type": "stream",
     "text": [
      "[[ 0.06528706  0.33814269  0.37721049]\n",
      " [-0.02436102 -0.12617354 -0.14075118]\n",
      " [-0.05387337 -0.27902753 -0.31126538]]\n"
     ]
    }
   ],
   "source": [
    "sqP = np.outer(sq,P)\n",
    "print(sqP)"
   ]
  },
  {
   "cell_type": "code",
   "execution_count": 12,
   "metadata": {},
   "outputs": [
    {
     "name": "stdout",
     "output_type": "stream",
     "text": [
      "[[-0.01138922 -0.00045329 -0.00562453]\n",
      " [-0.09196054 -0.00366005 -0.04541444]\n",
      " [ 0.42857608  0.01705741  0.21165102]]\n"
     ]
    }
   ],
   "source": [
    "psQ = np.outer(ps,Q)\n",
    "print(psQ)"
   ]
  },
  {
   "cell_type": "code",
   "execution_count": 13,
   "metadata": {},
   "outputs": [
    {
     "name": "stdout",
     "output_type": "stream",
     "text": [
      "[[-0.21556572 -0.02426209 -0.20984886]\n",
      " [ 0.34248894  0.0385474   0.33340604]\n",
      " [ 0.05414377  0.00609392  0.05270786]]\n"
     ]
    }
   ],
   "source": [
    "qpS = np.outer(qp,S)\n",
    "print(qpS)"
   ]
  },
  {
   "cell_type": "code",
   "execution_count": 14,
   "metadata": {},
   "outputs": [
    {
     "data": {
      "text/plain": [
       "array([0.25052376, 0.00997089, 0.12372041])"
      ]
     },
     "execution_count": 14,
     "metadata": {},
     "output_type": "execute_result"
    }
   ],
   "source": [
    "np.matmul(q,psQ)"
   ]
  },
  {
   "cell_type": "code",
   "execution_count": 15,
   "metadata": {},
   "outputs": [
    {
     "data": {
      "text/plain": [
       "array([0.8960527 , 0.03566307, 0.44251295])"
      ]
     },
     "execution_count": 15,
     "metadata": {},
     "output_type": "execute_result"
    }
   ],
   "source": [
    "Q"
   ]
  },
  {
   "cell_type": "code",
   "execution_count": 16,
   "metadata": {},
   "outputs": [
    {
     "data": {
      "text/plain": [
       "array([0.0357366 , 0.18509135, 0.20647615])"
      ]
     },
     "execution_count": 16,
     "metadata": {},
     "output_type": "execute_result"
    }
   ],
   "source": [
    "np.matmul(p,sqP)"
   ]
  },
  {
   "cell_type": "code",
   "execution_count": 17,
   "metadata": {},
   "outputs": [
    {
     "data": {
      "text/plain": [
       "array([0.12781971, 0.66201946, 0.73850684])"
      ]
     },
     "execution_count": 17,
     "metadata": {},
     "output_type": "execute_result"
    }
   ],
   "source": [
    "P"
   ]
  },
  {
   "cell_type": "code",
   "execution_count": 18,
   "metadata": {},
   "outputs": [
    {
     "data": {
      "text/plain": [
       "array([0.19968743, 0.02247498, 0.19439166])"
      ]
     },
     "execution_count": 18,
     "metadata": {},
     "output_type": "execute_result"
    }
   ],
   "source": [
    "np.matmul(s,qpS)"
   ]
  },
  {
   "cell_type": "code",
   "execution_count": 19,
   "metadata": {},
   "outputs": [
    {
     "data": {
      "text/plain": [
       "array([0.71422551, 0.08038665, 0.69528405])"
      ]
     },
     "execution_count": 19,
     "metadata": {},
     "output_type": "execute_result"
    }
   ],
   "source": [
    "S"
   ]
  },
  {
   "cell_type": "code",
   "execution_count": 20,
   "metadata": {},
   "outputs": [],
   "source": [
    "alpha = P[0]/(np.matmul(p,sqP)[0])\n",
    "beta = Q[0]/(np.matmul(q,psQ)[0])\n",
    "gamma = S[0]/(np.matmul(s,qpS)[0])"
   ]
  },
  {
   "cell_type": "markdown",
   "metadata": {},
   "source": [
    "# T is the transformation matrix"
   ]
  },
  {
   "cell_type": "code",
   "execution_count": 21,
   "metadata": {},
   "outputs": [],
   "source": [
    "T = alpha*sqP + beta*psQ + gamma*qpS"
   ]
  },
  {
   "cell_type": "code",
   "execution_count": 22,
   "metadata": {},
   "outputs": [
    {
     "data": {
      "text/plain": [
       "array([0.12781971, 0.66201946, 0.73850684])"
      ]
     },
     "execution_count": 22,
     "metadata": {},
     "output_type": "execute_result"
    }
   ],
   "source": [
    "np.matmul(p,T)"
   ]
  },
  {
   "cell_type": "code",
   "execution_count": 23,
   "metadata": {},
   "outputs": [
    {
     "data": {
      "text/plain": [
       "array([0.12781971, 0.66201946, 0.73850684])"
      ]
     },
     "execution_count": 23,
     "metadata": {},
     "output_type": "execute_result"
    }
   ],
   "source": [
    "P"
   ]
  },
  {
   "cell_type": "code",
   "execution_count": 24,
   "metadata": {},
   "outputs": [
    {
     "data": {
      "text/plain": [
       "array([0.8960527 , 0.03566307, 0.44251295])"
      ]
     },
     "execution_count": 24,
     "metadata": {},
     "output_type": "execute_result"
    }
   ],
   "source": [
    "np.matmul(q,T)"
   ]
  },
  {
   "cell_type": "code",
   "execution_count": 25,
   "metadata": {},
   "outputs": [
    {
     "data": {
      "text/plain": [
       "array([0.8960527 , 0.03566307, 0.44251295])"
      ]
     },
     "execution_count": 25,
     "metadata": {},
     "output_type": "execute_result"
    }
   ],
   "source": [
    "Q"
   ]
  },
  {
   "cell_type": "code",
   "execution_count": 26,
   "metadata": {},
   "outputs": [
    {
     "data": {
      "text/plain": [
       "array([0.71422551, 0.08038665, 0.69528405])"
      ]
     },
     "execution_count": 26,
     "metadata": {},
     "output_type": "execute_result"
    }
   ],
   "source": [
    "np.matmul(s,T)"
   ]
  },
  {
   "cell_type": "code",
   "execution_count": 27,
   "metadata": {},
   "outputs": [
    {
     "data": {
      "text/plain": [
       "array([0.71422551, 0.08038665, 0.69528405])"
      ]
     },
     "execution_count": 27,
     "metadata": {},
     "output_type": "execute_result"
    }
   ],
   "source": [
    "S"
   ]
  },
  {
   "cell_type": "code",
   "execution_count": 28,
   "metadata": {},
   "outputs": [
    {
     "name": "stdout",
     "output_type": "stream",
     "text": [
      "[[-0.57824036  1.12104089  0.5784879 ]\n",
      " [ 0.80893682 -0.32650489  0.52663736]\n",
      " [ 1.53386267 -0.91519685 -0.1677713 ]]\n",
      "0.6087741119259577\n"
     ]
    }
   ],
   "source": [
    "dT = np.linalg.det(T)\n",
    "print(T)\n",
    "print(dT)"
   ]
  },
  {
   "cell_type": "code",
   "execution_count": 29,
   "metadata": {},
   "outputs": [
    {
     "data": {
      "text/plain": [
       "0.37060591935123843"
      ]
     },
     "execution_count": 29,
     "metadata": {},
     "output_type": "execute_result"
    }
   ],
   "source": [
    "dT*dT"
   ]
  },
  {
   "cell_type": "code",
   "execution_count": null,
   "metadata": {},
   "outputs": [],
   "source": []
  },
  {
   "cell_type": "code",
   "execution_count": 30,
   "metadata": {},
   "outputs": [
    {
     "name": "stdout",
     "output_type": "stream",
     "text": [
      "[[0.84815999 0.5128789  0.13258907]\n",
      " [0.67121308 0.31650085 0.6702986 ]\n",
      " [0.48075799 0.85463123 0.1961561 ]]\n"
     ]
    }
   ],
   "source": [
    "A = np.array([p,q,s])\n",
    "print(A)"
   ]
  },
  {
   "cell_type": "code",
   "execution_count": 31,
   "metadata": {},
   "outputs": [
    {
     "name": "stdout",
     "output_type": "stream",
     "text": [
      "[[0.12781971 0.66201946 0.73850684]\n",
      " [0.8960527  0.03566307 0.44251295]\n",
      " [0.71422551 0.08038665 0.69528405]]\n"
     ]
    }
   ],
   "source": [
    "B = np.array([P,Q,S])\n",
    "print(B)"
   ]
  },
  {
   "cell_type": "code",
   "execution_count": 32,
   "metadata": {},
   "outputs": [
    {
     "name": "stdout",
     "output_type": "stream",
     "text": [
      "[[0.84815999 0.67121308 0.48075799]\n",
      " [0.5128789  0.31650085 0.85463123]\n",
      " [0.13258907 0.6702986  0.1961561 ]]\n"
     ]
    }
   ],
   "source": [
    "At = A.transpose()\n",
    "print(At)"
   ]
  },
  {
   "cell_type": "code",
   "execution_count": 33,
   "metadata": {},
   "outputs": [
    {
     "name": "stdout",
     "output_type": "stream",
     "text": [
      "[[0.12781971 0.8960527  0.71422551]\n",
      " [0.66201946 0.03566307 0.08038665]\n",
      " [0.73850684 0.44251295 0.69528405]]\n"
     ]
    }
   ],
   "source": [
    "Bt = B.transpose()\n",
    "print(Bt)"
   ]
  },
  {
   "cell_type": "code",
   "execution_count": 34,
   "metadata": {},
   "outputs": [
    {
     "data": {
      "text/plain": [
       "array([[1.        , 0.82049696, 0.87209017],\n",
       "       [0.82049696, 1.        , 0.72466572],\n",
       "       [0.87209017, 0.72466572, 1.        ]])"
      ]
     },
     "execution_count": 34,
     "metadata": {},
     "output_type": "execute_result"
    }
   ],
   "source": [
    "U = np.matmul(A,At)\n",
    "U"
   ]
  },
  {
   "cell_type": "code",
   "execution_count": 35,
   "metadata": {},
   "outputs": [
    {
     "data": {
      "text/plain": [
       "array([[1.        , 0.46494169, 0.65798166],\n",
       "       [0.46494169, 1.        , 0.95052272],\n",
       "       [0.65798166, 0.95052272, 1.        ]])"
      ]
     },
     "execution_count": 35,
     "metadata": {},
     "output_type": "execute_result"
    }
   ],
   "source": [
    "V = np.matmul(B,Bt)\n",
    "V"
   ]
  },
  {
   "cell_type": "code",
   "execution_count": 36,
   "metadata": {},
   "outputs": [
    {
     "data": {
      "text/plain": [
       "0.07816831336054614"
      ]
     },
     "execution_count": 36,
     "metadata": {},
     "output_type": "execute_result"
    }
   ],
   "source": [
    "Su = np.linalg.det(U)/(U[0,0]*U[1,1]*U[2,2])\n",
    "Su"
   ]
  },
  {
   "cell_type": "markdown",
   "metadata": {},
   "source": [
    "# We get the result that quadrea Sv is equal to quadrea Su times determinant of T squared"
   ]
  },
  {
   "cell_type": "code",
   "execution_count": 37,
   "metadata": {},
   "outputs": [
    {
     "data": {
      "text/plain": [
       "0.02896963963712123"
      ]
     },
     "execution_count": 37,
     "metadata": {},
     "output_type": "execute_result"
    }
   ],
   "source": [
    "Sv = np.linalg.det(V)/(V[0,0]*V[1,1]*V[2,2])\n",
    "Sv"
   ]
  },
  {
   "cell_type": "code",
   "execution_count": 38,
   "metadata": {},
   "outputs": [
    {
     "data": {
      "text/plain": [
       "0.028969639637120896"
      ]
     },
     "execution_count": 38,
     "metadata": {},
     "output_type": "execute_result"
    }
   ],
   "source": [
    "Su*dT**2"
   ]
  },
  {
   "cell_type": "code",
   "execution_count": null,
   "metadata": {},
   "outputs": [],
   "source": []
  },
  {
   "cell_type": "code",
   "execution_count": null,
   "metadata": {},
   "outputs": [],
   "source": []
  }
 ],
 "metadata": {
  "@webio": {
   "lastCommId": null,
   "lastKernelId": null
  },
  "kernelspec": {
   "display_name": "Python 3",
   "language": "python",
   "name": "python3"
  },
  "language_info": {
   "codemirror_mode": {
    "name": "ipython",
    "version": 3
   },
   "file_extension": ".py",
   "mimetype": "text/x-python",
   "name": "python",
   "nbconvert_exporter": "python",
   "pygments_lexer": "ipython3",
   "version": "3.7.6"
  }
 },
 "nbformat": 4,
 "nbformat_minor": 4
}
