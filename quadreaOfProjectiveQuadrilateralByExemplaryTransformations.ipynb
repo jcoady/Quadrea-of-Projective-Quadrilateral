{
 "cells": [
  {
   "cell_type": "code",
   "execution_count": 1,
   "metadata": {},
   "outputs": [],
   "source": [
    "import numpy as np\n",
    "from math import sqrt\n",
    "from math import sin, cos, pi"
   ]
  },
  {
   "cell_type": "code",
   "execution_count": 2,
   "metadata": {},
   "outputs": [],
   "source": [
    "def sphericalToCartesian(r,theta,phi):\n",
    "    return [r*sin(phi/180*pi)*cos(theta/180*pi), r*sin(phi/180*pi)*sin(theta/180*pi),r*cos(phi/180*pi)]"
   ]
  },
  {
   "cell_type": "code",
   "execution_count": 23,
   "metadata": {},
   "outputs": [],
   "source": [
    "r = np.array([1,0,0])\n",
    "s = np.array([0,1,0])\n",
    "p = np.array([1/sqrt(2),0,1/sqrt(2)])\n",
    "q = np.array([0,1/sqrt(2),1/sqrt(2)])"
   ]
  },
  {
   "cell_type": "code",
   "execution_count": 7,
   "metadata": {},
   "outputs": [],
   "source": [
    "P = np.array(sphericalToCartesian(1,0,50))\n",
    "Q = np.array(sphericalToCartesian(1,90,70))\n",
    "S = np.array(sphericalToCartesian(1,90,90))\n",
    "R = np.array(sphericalToCartesian(1,0,90))"
   ]
  },
  {
   "cell_type": "code",
   "execution_count": 83,
   "metadata": {},
   "outputs": [],
   "source": [
    "P = np.array(sphericalToCartesian(1,0,60))\n",
    "Q = np.array(sphericalToCartesian(1,90,60))\n",
    "S = np.array(sphericalToCartesian(1,90,90))\n",
    "R = np.array(sphericalToCartesian(1,0,90))"
   ]
  },
  {
   "cell_type": "code",
   "execution_count": 84,
   "metadata": {},
   "outputs": [],
   "source": [
    "R = np.array([1,0,0])\n",
    "S = np.array([1/sqrt(2),1/sqrt(2),0])\n",
    "P = np.array([1/sqrt(2),0,1/sqrt(2)])\n",
    "Q = np.array([1/2,1/2,1/sqrt(2)])"
   ]
  },
  {
   "cell_type": "code",
   "execution_count": 85,
   "metadata": {},
   "outputs": [
    {
     "data": {
      "text/plain": [
       "array([[0.74670318, 0.83771226, 0.1760313 ],\n",
       "       [0.79565805, 0.22059202, 0.47889838],\n",
       "       [0.79706635, 0.39934723, 0.30080425],\n",
       "       [0.29665987, 0.56625906, 0.27824528]])"
      ]
     },
     "execution_count": 85,
     "metadata": {},
     "output_type": "execute_result"
    }
   ],
   "source": [
    "B = np.random.rand(4,3)\n",
    "B"
   ]
  },
  {
   "cell_type": "code",
   "execution_count": 86,
   "metadata": {},
   "outputs": [],
   "source": [
    "b1 = B[0,:]\n",
    "b2 = B[1,:]\n",
    "b3 = B[2,:]\n",
    "b4 = B[3,:]"
   ]
  },
  {
   "cell_type": "code",
   "execution_count": 87,
   "metadata": {},
   "outputs": [],
   "source": [
    "b1 = np.array(sphericalToCartesian(1,30,60))\n",
    "b2 = np.array(sphericalToCartesian(1,60,60))\n",
    "b3 = np.array(sphericalToCartesian(1,60,90))\n",
    "b4 = np.array(sphericalToCartesian(1,30,90))"
   ]
  },
  {
   "cell_type": "code",
   "execution_count": 88,
   "metadata": {},
   "outputs": [],
   "source": [
    "b1 = b1 / np.linalg.norm(b1)\n",
    "b2 = b2 / np.linalg.norm(b2)\n",
    "b3 = b3 / np.linalg.norm(b3)\n",
    "b4 = b4 / np.linalg.norm(b4)"
   ]
  },
  {
   "cell_type": "code",
   "execution_count": 89,
   "metadata": {},
   "outputs": [],
   "source": [
    "def ExemplaryTransformationQuadrilateral(p,q,r,s,P,Q,R,S):\n",
    "    sq = np.cross(s,q)\n",
    "    ps = np.cross(p,s)\n",
    "    qp = np.cross(q,p)\n",
    "    rqp = np.array([r,q,p])\n",
    "    drqp = np.linalg.det(rqp)\n",
    "    rps = np.array([r,p,s])\n",
    "    drps = np.linalg.det(rps)\n",
    "    rsq = np.array([r,s,q])\n",
    "    drsq = np.linalg.det(rsq)\n",
    "    SRQ = np.array([S,R,Q])\n",
    "    dSRQ = np.linalg.det(SRQ)\n",
    "    PRS = np.array([P,R,S])\n",
    "    dPRS = np.linalg.det(PRS)\n",
    "    QRP = np.array([Q,R,P])\n",
    "    dQRP = np.linalg.det(QRP)\n",
    "    sqP = np.outer(sq,P)\n",
    "    psQ = np.outer(ps,Q)\n",
    "    qpS = np.outer(qp,S)\n",
    "        \n",
    "    T1 = drqp*drps*dSRQ*sqP\n",
    "    T2 = drqp*drsq*dPRS*psQ\n",
    "    T3 = drps*drsq*dQRP*qpS\n",
    "    \n",
    "    return T1 + T2 + T3\n"
   ]
  },
  {
   "cell_type": "code",
   "execution_count": 90,
   "metadata": {},
   "outputs": [],
   "source": [
    "Tac = ExemplaryTransformationQuadrilateral(p,q,s,r,P,Q,S,R)"
   ]
  },
  {
   "cell_type": "code",
   "execution_count": 91,
   "metadata": {},
   "outputs": [],
   "source": [
    "Tab = ExemplaryTransformationQuadrilateral(p,q,s,r,b1,b2,b3,b4)"
   ]
  },
  {
   "cell_type": "code",
   "execution_count": 92,
   "metadata": {},
   "outputs": [],
   "source": [
    "Tbc = ExemplaryTransformationQuadrilateral(b1,b2,b3,b4,P,Q,S,R)"
   ]
  },
  {
   "cell_type": "code",
   "execution_count": 93,
   "metadata": {},
   "outputs": [],
   "source": [
    "Tcb = ExemplaryTransformationQuadrilateral(P,Q,S,R,b1,b2,b3,b4)"
   ]
  },
  {
   "cell_type": "code",
   "execution_count": 94,
   "metadata": {},
   "outputs": [],
   "source": [
    "u, sigma, vh = np.linalg.svd(Tac, full_matrices=True)"
   ]
  },
  {
   "cell_type": "code",
   "execution_count": 95,
   "metadata": {},
   "outputs": [
    {
     "name": "stdout",
     "output_type": "stream",
     "text": [
      "[[-7.07106781e-01  1.57009246e-16  7.07106781e-01]\n",
      " [-7.07106781e-01 -4.44089210e-16 -7.07106781e-01]\n",
      " [-2.02996189e-16  1.00000000e+00 -4.25040794e-16]]\n"
     ]
    }
   ],
   "source": [
    "print(u)"
   ]
  },
  {
   "cell_type": "code",
   "execution_count": 96,
   "metadata": {},
   "outputs": [
    {
     "name": "stdout",
     "output_type": "stream",
     "text": [
      "[0.11548494 0.08838835 0.04783543]\n"
     ]
    }
   ],
   "source": [
    "print(sigma)"
   ]
  },
  {
   "cell_type": "code",
   "execution_count": 97,
   "metadata": {},
   "outputs": [
    {
     "name": "stdout",
     "output_type": "stream",
     "text": [
      "[[-9.23879533e-01 -3.82683432e-01 -1.20169674e-16]\n",
      " [ 0.00000000e+00 -3.14018492e-16  1.00000000e+00]\n",
      " [ 3.82683432e-01 -9.23879533e-01 -2.90115257e-16]]\n"
     ]
    }
   ],
   "source": [
    "print(vh)"
   ]
  },
  {
   "cell_type": "code",
   "execution_count": 115,
   "metadata": {},
   "outputs": [
    {
     "name": "stdout",
     "output_type": "stream",
     "text": [
      "[[0.70710678 0.         0.70710678]\n",
      " [0.         0.70710678 0.70710678]\n",
      " [0.         1.         0.        ]\n",
      " [1.         0.         0.        ]]\n"
     ]
    }
   ],
   "source": [
    "A = np.array([p,q,s,r])\n",
    "print(A)"
   ]
  },
  {
   "cell_type": "code",
   "execution_count": 106,
   "metadata": {},
   "outputs": [
    {
     "name": "stdout",
     "output_type": "stream",
     "text": [
      "[[0.70710678 0.         0.70710678]\n",
      " [0.5        0.5        0.70710678]\n",
      " [1.         0.         0.        ]\n",
      " [0.70710678 0.70710678 0.        ]]\n"
     ]
    }
   ],
   "source": [
    "A = np.array([P,Q,R,S])\n",
    "print(A)"
   ]
  },
  {
   "cell_type": "code",
   "execution_count": 116,
   "metadata": {},
   "outputs": [],
   "source": [
    "u, sigma, vh = np.linalg.svd(A, full_matrices=True)"
   ]
  },
  {
   "cell_type": "code",
   "execution_count": 117,
   "metadata": {},
   "outputs": [
    {
     "data": {
      "text/plain": [
       "array([[-0.57735027,  0.40824829,  0.40824829, -0.57735027],\n",
       "       [-0.57735027, -0.40824829,  0.40824829,  0.57735027],\n",
       "       [-0.40824829, -0.57735027, -0.57735027, -0.40824829],\n",
       "       [-0.40824829,  0.57735027, -0.57735027,  0.40824829]])"
      ]
     },
     "execution_count": 117,
     "metadata": {},
     "output_type": "execute_result"
    }
   ],
   "source": [
    "u"
   ]
  },
  {
   "cell_type": "code",
   "execution_count": 118,
   "metadata": {},
   "outputs": [
    {
     "data": {
      "text/plain": [
       "array([1.41421356, 1.22474487, 0.70710678])"
      ]
     },
     "execution_count": 118,
     "metadata": {},
     "output_type": "execute_result"
    }
   ],
   "source": [
    "sigma"
   ]
  },
  {
   "cell_type": "code",
   "execution_count": 119,
   "metadata": {},
   "outputs": [
    {
     "data": {
      "text/plain": [
       "array([[-5.77350269e-01, -5.77350269e-01, -5.77350269e-01],\n",
       "       [ 7.07106781e-01, -7.07106781e-01,  3.33066907e-16],\n",
       "       [-4.08248290e-01, -4.08248290e-01,  8.16496581e-01]])"
      ]
     },
     "execution_count": 119,
     "metadata": {},
     "output_type": "execute_result"
    }
   ],
   "source": [
    "vh"
   ]
  },
  {
   "cell_type": "code",
   "execution_count": 120,
   "metadata": {},
   "outputs": [
    {
     "data": {
      "text/plain": [
       "-0.9999999999999998"
      ]
     },
     "execution_count": 120,
     "metadata": {},
     "output_type": "execute_result"
    }
   ],
   "source": [
    "ud = np.linalg.det(u)\n",
    "ud"
   ]
  },
  {
   "cell_type": "code",
   "execution_count": 121,
   "metadata": {},
   "outputs": [
    {
     "data": {
      "text/plain": [
       "0.9999999999999998"
      ]
     },
     "execution_count": 121,
     "metadata": {},
     "output_type": "execute_result"
    }
   ],
   "source": [
    "vhd = np.linalg.det(vh)\n",
    "vhd"
   ]
  },
  {
   "cell_type": "code",
   "execution_count": 123,
   "metadata": {},
   "outputs": [
    {
     "data": {
      "text/plain": [
       "0.6666666666666667"
      ]
     },
     "execution_count": 123,
     "metadata": {},
     "output_type": "execute_result"
    }
   ],
   "source": [
    "1/(sigma[0]*sigma[1]*sigma[2])**2"
   ]
  },
  {
   "cell_type": "code",
   "execution_count": null,
   "metadata": {},
   "outputs": [],
   "source": []
  },
  {
   "cell_type": "code",
   "execution_count": null,
   "metadata": {},
   "outputs": [],
   "source": []
  },
  {
   "cell_type": "code",
   "execution_count": null,
   "metadata": {},
   "outputs": [],
   "source": []
  },
  {
   "cell_type": "code",
   "execution_count": 18,
   "metadata": {},
   "outputs": [],
   "source": [
    "W,V = np.linalg.eig(Tac)"
   ]
  },
  {
   "cell_type": "code",
   "execution_count": 19,
   "metadata": {},
   "outputs": [
    {
     "name": "stdout",
     "output_type": "stream",
     "text": [
      "[0.15100569 0.06550066 0.05496158]\n",
      "[[ 0.00000000e+00  1.00000000e+00 -3.80560594e-16]\n",
      " [ 1.00000000e+00  0.00000000e+00 -1.86253434e-16]\n",
      " [ 0.00000000e+00  0.00000000e+00  1.00000000e+00]]\n"
     ]
    }
   ],
   "source": [
    "print(W)\n",
    "print(V)"
   ]
  },
  {
   "cell_type": "code",
   "execution_count": 16,
   "metadata": {},
   "outputs": [
    {
     "data": {
      "text/plain": [
       "0.10825317547305481"
      ]
     },
     "execution_count": 16,
     "metadata": {},
     "output_type": "execute_result"
    }
   ],
   "source": [
    "np.linalg.norm(np.matmul(s,Tac))"
   ]
  },
  {
   "cell_type": "code",
   "execution_count": 17,
   "metadata": {},
   "outputs": [
    {
     "data": {
      "text/plain": [
       "0.08838834764831842"
      ]
     },
     "execution_count": 17,
     "metadata": {},
     "output_type": "execute_result"
    }
   ],
   "source": [
    "np.linalg.norm(np.matmul(p,Tac))"
   ]
  },
  {
   "cell_type": "code",
   "execution_count": 18,
   "metadata": {},
   "outputs": [
    {
     "data": {
      "text/plain": [
       "0.08838834764831842"
      ]
     },
     "execution_count": 18,
     "metadata": {},
     "output_type": "execute_result"
    }
   ],
   "source": [
    "np.linalg.norm(np.matmul(q,Tac))"
   ]
  },
  {
   "cell_type": "code",
   "execution_count": 19,
   "metadata": {},
   "outputs": [
    {
     "data": {
      "text/plain": [
       "0.1082531754730548"
      ]
     },
     "execution_count": 19,
     "metadata": {},
     "output_type": "execute_result"
    }
   ],
   "source": [
    "np.linalg.norm(np.matmul(r,Tac))"
   ]
  },
  {
   "cell_type": "code",
   "execution_count": 20,
   "metadata": {},
   "outputs": [
    {
     "data": {
      "text/plain": [
       "array([6.123234e-17, 1.000000e+00, 6.123234e-17])"
      ]
     },
     "execution_count": 20,
     "metadata": {},
     "output_type": "execute_result"
    }
   ],
   "source": [
    "S"
   ]
  },
  {
   "cell_type": "code",
   "execution_count": 21,
   "metadata": {
    "scrolled": true
   },
   "outputs": [
    {
     "data": {
      "text/plain": [
       "array([-1.28197512e-16,  1.00000000e+00,  6.12323400e-17])"
      ]
     },
     "execution_count": 21,
     "metadata": {},
     "output_type": "execute_result"
    }
   ],
   "source": [
    "np.matmul(s,Tac)*S[np.argmax(S)]/np.matmul(s,Tac)[np.argmax(S)]"
   ]
  },
  {
   "cell_type": "code",
   "execution_count": 22,
   "metadata": {},
   "outputs": [
    {
     "data": {
      "text/plain": [
       "array([-1.28197512e-16,  1.00000000e+00,  6.12323400e-17])"
      ]
     },
     "execution_count": 22,
     "metadata": {},
     "output_type": "execute_result"
    }
   ],
   "source": [
    "np.matmul(s,Tac)/np.linalg.norm(np.matmul(s,Tac))"
   ]
  },
  {
   "cell_type": "code",
   "execution_count": 23,
   "metadata": {},
   "outputs": [
    {
     "data": {
      "text/plain": [
       "array([0.8660254, 0.       , 0.5      ])"
      ]
     },
     "execution_count": 23,
     "metadata": {},
     "output_type": "execute_result"
    }
   ],
   "source": [
    "P"
   ]
  },
  {
   "cell_type": "code",
   "execution_count": 24,
   "metadata": {
    "scrolled": true
   },
   "outputs": [
    {
     "data": {
      "text/plain": [
       "array([0.8660254, 0.       , 0.5      ])"
      ]
     },
     "execution_count": 24,
     "metadata": {},
     "output_type": "execute_result"
    }
   ],
   "source": [
    "np.matmul(p,Tac)*P[np.argmax(P)]/np.matmul(p,Tac)[np.argmax(P)]"
   ]
  },
  {
   "cell_type": "code",
   "execution_count": 25,
   "metadata": {},
   "outputs": [
    {
     "data": {
      "text/plain": [
       "array([0.8660254, 0.       , 0.5      ])"
      ]
     },
     "execution_count": 25,
     "metadata": {},
     "output_type": "execute_result"
    }
   ],
   "source": [
    "np.matmul(p,Tac)/np.linalg.norm(np.matmul(p,Tac))"
   ]
  },
  {
   "cell_type": "code",
   "execution_count": 26,
   "metadata": {},
   "outputs": [
    {
     "data": {
      "text/plain": [
       "array([5.30287619e-17, 8.66025404e-01, 5.00000000e-01])"
      ]
     },
     "execution_count": 26,
     "metadata": {},
     "output_type": "execute_result"
    }
   ],
   "source": [
    "Q"
   ]
  },
  {
   "cell_type": "code",
   "execution_count": 27,
   "metadata": {
    "scrolled": true
   },
   "outputs": [
    {
     "data": {
      "text/plain": [
       "array([0.       , 0.8660254, 0.5      ])"
      ]
     },
     "execution_count": 27,
     "metadata": {},
     "output_type": "execute_result"
    }
   ],
   "source": [
    "np.matmul(q,Tac)*Q[np.argmax(Q)]/np.matmul(q,Tac)[np.argmax(Q)]"
   ]
  },
  {
   "cell_type": "code",
   "execution_count": 28,
   "metadata": {},
   "outputs": [
    {
     "data": {
      "text/plain": [
       "array([0.       , 0.8660254, 0.5      ])"
      ]
     },
     "execution_count": 28,
     "metadata": {},
     "output_type": "execute_result"
    }
   ],
   "source": [
    "np.matmul(q,Tac)/np.linalg.norm(np.matmul(q,Tac))"
   ]
  },
  {
   "cell_type": "code",
   "execution_count": 29,
   "metadata": {},
   "outputs": [
    {
     "data": {
      "text/plain": [
       "array([1.000000e+00, 0.000000e+00, 6.123234e-17])"
      ]
     },
     "execution_count": 29,
     "metadata": {},
     "output_type": "execute_result"
    }
   ],
   "source": [
    "R"
   ]
  },
  {
   "cell_type": "code",
   "execution_count": 30,
   "metadata": {
    "scrolled": true
   },
   "outputs": [
    {
     "data": {
      "text/plain": [
       "array([1.000000e+00, 0.000000e+00, 6.123234e-17])"
      ]
     },
     "execution_count": 30,
     "metadata": {},
     "output_type": "execute_result"
    }
   ],
   "source": [
    "np.matmul(r,Tac)*R[np.argmax(R)]/np.matmul(r,Tac)[np.argmax(R)]"
   ]
  },
  {
   "cell_type": "code",
   "execution_count": 31,
   "metadata": {},
   "outputs": [
    {
     "data": {
      "text/plain": [
       "array([1.000000e+00, 0.000000e+00, 6.123234e-17])"
      ]
     },
     "execution_count": 31,
     "metadata": {},
     "output_type": "execute_result"
    }
   ],
   "source": [
    "np.matmul(r,Tac)/np.linalg.norm(np.matmul(r,Tac))"
   ]
  },
  {
   "cell_type": "code",
   "execution_count": 32,
   "metadata": {},
   "outputs": [],
   "source": [
    "W,V = np.linalg.eig(Tab)"
   ]
  },
  {
   "cell_type": "code",
   "execution_count": 33,
   "metadata": {},
   "outputs": [
    {
     "name": "stdout",
     "output_type": "stream",
     "text": [
      "[0.06375852 0.00246945 0.0118258 ]\n",
      "[[-0.03552714 -0.89837177 -0.05159685]\n",
      " [-0.36725332 -0.33048972 -0.96248648]\n",
      " [-0.92944221  0.28931766  0.26637857]]\n"
     ]
    }
   ],
   "source": [
    "print(W)\n",
    "print(V)"
   ]
  },
  {
   "cell_type": "code",
   "execution_count": 61,
   "metadata": {},
   "outputs": [
    {
     "data": {
      "text/plain": [
       "1.0"
      ]
     },
     "execution_count": 61,
     "metadata": {},
     "output_type": "execute_result"
    }
   ],
   "source": [
    "np.linalg.norm(V[:,2])"
   ]
  },
  {
   "cell_type": "code",
   "execution_count": 66,
   "metadata": {},
   "outputs": [
    {
     "data": {
      "text/plain": [
       "array([-0.32360707, -0.01038563, -0.82720686])"
      ]
     },
     "execution_count": 66,
     "metadata": {},
     "output_type": "execute_result"
    }
   ],
   "source": [
    "np.matmul(p,Tab)/V[0]"
   ]
  },
  {
   "cell_type": "code",
   "execution_count": 34,
   "metadata": {},
   "outputs": [
    {
     "data": {
      "text/plain": [
       "0.045176542547571176"
      ]
     },
     "execution_count": 34,
     "metadata": {},
     "output_type": "execute_result"
    }
   ],
   "source": [
    "np.linalg.norm(np.matmul(p,Tab))"
   ]
  },
  {
   "cell_type": "code",
   "execution_count": 35,
   "metadata": {},
   "outputs": [
    {
     "data": {
      "text/plain": [
       "0.05900600664111821"
      ]
     },
     "execution_count": 35,
     "metadata": {},
     "output_type": "execute_result"
    }
   ],
   "source": [
    "np.linalg.norm(np.matmul(q,Tab))"
   ]
  },
  {
   "cell_type": "code",
   "execution_count": 36,
   "metadata": {},
   "outputs": [
    {
     "data": {
      "text/plain": [
       "0.025061646527490936"
      ]
     },
     "execution_count": 36,
     "metadata": {},
     "output_type": "execute_result"
    }
   ],
   "source": [
    "np.linalg.norm(np.matmul(s,Tab))"
   ]
  },
  {
   "cell_type": "code",
   "execution_count": 37,
   "metadata": {},
   "outputs": [
    {
     "data": {
      "text/plain": [
       "0.0034838493088038803"
      ]
     },
     "execution_count": 37,
     "metadata": {},
     "output_type": "execute_result"
    }
   ],
   "source": [
    "np.linalg.norm(np.matmul(r,Tab))"
   ]
  },
  {
   "cell_type": "code",
   "execution_count": 38,
   "metadata": {},
   "outputs": [
    {
     "data": {
      "text/plain": [
       "array([0.25448683, 0.20652655, 0.94476623])"
      ]
     },
     "execution_count": 38,
     "metadata": {},
     "output_type": "execute_result"
    }
   ],
   "source": [
    "b1"
   ]
  },
  {
   "cell_type": "code",
   "execution_count": 39,
   "metadata": {
    "scrolled": true
   },
   "outputs": [
    {
     "data": {
      "text/plain": [
       "array([0.25448683, 0.20652655, 0.94476623])"
      ]
     },
     "execution_count": 39,
     "metadata": {},
     "output_type": "execute_result"
    }
   ],
   "source": [
    "np.matmul(p,Tab)*b1[np.argmax(b1)]/np.matmul(p,Tab)[np.argmax(b1)]"
   ]
  },
  {
   "cell_type": "code",
   "execution_count": 40,
   "metadata": {
    "scrolled": true
   },
   "outputs": [
    {
     "data": {
      "text/plain": [
       "array([0.25448683, 0.20652655, 0.94476623])"
      ]
     },
     "execution_count": 40,
     "metadata": {},
     "output_type": "execute_result"
    }
   ],
   "source": [
    "np.matmul(p,Tab)/np.linalg.norm(np.matmul(p,Tab))"
   ]
  },
  {
   "cell_type": "code",
   "execution_count": 41,
   "metadata": {},
   "outputs": [
    {
     "data": {
      "text/plain": [
       "array([0.17000682, 0.34848971, 0.92176602])"
      ]
     },
     "execution_count": 41,
     "metadata": {},
     "output_type": "execute_result"
    }
   ],
   "source": [
    "b2"
   ]
  },
  {
   "cell_type": "code",
   "execution_count": 42,
   "metadata": {
    "scrolled": true
   },
   "outputs": [
    {
     "data": {
      "text/plain": [
       "array([0.17000682, 0.34848971, 0.92176602])"
      ]
     },
     "execution_count": 42,
     "metadata": {},
     "output_type": "execute_result"
    }
   ],
   "source": [
    "np.matmul(q,Tab)*b2[np.argmax(b2)]/np.matmul(q,Tab)[np.argmax(b2)]"
   ]
  },
  {
   "cell_type": "code",
   "execution_count": 43,
   "metadata": {
    "scrolled": true
   },
   "outputs": [
    {
     "data": {
      "text/plain": [
       "array([0.17000682, 0.34848971, 0.92176602])"
      ]
     },
     "execution_count": 43,
     "metadata": {},
     "output_type": "execute_result"
    }
   ],
   "source": [
    "np.matmul(q,Tab)/np.linalg.norm(np.matmul(q,Tab))"
   ]
  },
  {
   "cell_type": "code",
   "execution_count": 44,
   "metadata": {},
   "outputs": [
    {
     "data": {
      "text/plain": [
       "array([0.02562755, 0.67465728, 0.7376861 ])"
      ]
     },
     "execution_count": 44,
     "metadata": {},
     "output_type": "execute_result"
    }
   ],
   "source": [
    "b3"
   ]
  },
  {
   "cell_type": "code",
   "execution_count": 45,
   "metadata": {
    "scrolled": true
   },
   "outputs": [
    {
     "data": {
      "text/plain": [
       "array([0.02562755, 0.67465728, 0.7376861 ])"
      ]
     },
     "execution_count": 45,
     "metadata": {},
     "output_type": "execute_result"
    }
   ],
   "source": [
    "np.matmul(s,Tab)*b3[np.argmax(b3)]/np.matmul(s,Tab)[np.argmax(b3)]"
   ]
  },
  {
   "cell_type": "code",
   "execution_count": 46,
   "metadata": {
    "scrolled": true
   },
   "outputs": [
    {
     "data": {
      "text/plain": [
       "array([0.02562755, 0.67465728, 0.7376861 ])"
      ]
     },
     "execution_count": 46,
     "metadata": {},
     "output_type": "execute_result"
    }
   ],
   "source": [
    "np.matmul(s,Tab)/np.linalg.norm(np.matmul(s,Tab))"
   ]
  },
  {
   "cell_type": "code",
   "execution_count": 47,
   "metadata": {},
   "outputs": [
    {
     "data": {
      "text/plain": [
       "array([0.77921671, 0.29346875, 0.55380268])"
      ]
     },
     "execution_count": 47,
     "metadata": {},
     "output_type": "execute_result"
    }
   ],
   "source": [
    "b4"
   ]
  },
  {
   "cell_type": "code",
   "execution_count": 48,
   "metadata": {
    "scrolled": true
   },
   "outputs": [
    {
     "data": {
      "text/plain": [
       "array([0.77921671, 0.29346875, 0.55380268])"
      ]
     },
     "execution_count": 48,
     "metadata": {},
     "output_type": "execute_result"
    }
   ],
   "source": [
    "np.matmul(r,Tab)*b4[np.argmax(b4)]/np.matmul(r,Tab)[np.argmax(b4)]"
   ]
  },
  {
   "cell_type": "code",
   "execution_count": 49,
   "metadata": {
    "scrolled": true
   },
   "outputs": [
    {
     "data": {
      "text/plain": [
       "array([0.77921671, 0.29346875, 0.55380268])"
      ]
     },
     "execution_count": 49,
     "metadata": {},
     "output_type": "execute_result"
    }
   ],
   "source": [
    "np.matmul(r,Tab)/np.linalg.norm(np.matmul(r,Tab))"
   ]
  },
  {
   "cell_type": "code",
   "execution_count": null,
   "metadata": {},
   "outputs": [],
   "source": [
    "P"
   ]
  },
  {
   "cell_type": "code",
   "execution_count": null,
   "metadata": {
    "scrolled": true
   },
   "outputs": [],
   "source": [
    "np.matmul(b1,Tbc)*P[np.argmax(P)]/np.matmul(b1,Tbc)[np.argmax(P)]"
   ]
  },
  {
   "cell_type": "code",
   "execution_count": null,
   "metadata": {},
   "outputs": [],
   "source": [
    "Q"
   ]
  },
  {
   "cell_type": "code",
   "execution_count": null,
   "metadata": {
    "scrolled": true
   },
   "outputs": [],
   "source": [
    "np.matmul(b2,Tbc)*Q[np.argmax(Q)]/np.matmul(b2,Tbc)[np.argmax(Q)]"
   ]
  },
  {
   "cell_type": "code",
   "execution_count": null,
   "metadata": {},
   "outputs": [],
   "source": [
    "S"
   ]
  },
  {
   "cell_type": "code",
   "execution_count": null,
   "metadata": {
    "scrolled": true
   },
   "outputs": [],
   "source": [
    "np.matmul(b3,Tbc)*S[np.argmax(S)]/np.matmul(b3,Tbc)[np.argmax(S)]"
   ]
  },
  {
   "cell_type": "code",
   "execution_count": null,
   "metadata": {},
   "outputs": [],
   "source": [
    "R"
   ]
  },
  {
   "cell_type": "code",
   "execution_count": null,
   "metadata": {
    "scrolled": true
   },
   "outputs": [],
   "source": [
    "np.matmul(b4,Tbc)*R[np.argmax(R)]/np.matmul(b4,Tbc)[np.argmax(R)]"
   ]
  },
  {
   "cell_type": "code",
   "execution_count": null,
   "metadata": {},
   "outputs": [],
   "source": [
    "sq = np.cross(s,q)\n",
    "print(sq)"
   ]
  },
  {
   "cell_type": "code",
   "execution_count": null,
   "metadata": {},
   "outputs": [],
   "source": [
    "np.outer(sq,P)"
   ]
  },
  {
   "cell_type": "code",
   "execution_count": null,
   "metadata": {},
   "outputs": [],
   "source": [
    "ps = np.cross(p,s)\n",
    "print(ps)"
   ]
  },
  {
   "cell_type": "code",
   "execution_count": null,
   "metadata": {},
   "outputs": [],
   "source": [
    "qp = np.cross(q,p)\n",
    "print(qp)"
   ]
  },
  {
   "cell_type": "code",
   "execution_count": null,
   "metadata": {},
   "outputs": [],
   "source": [
    "rqp = np.array([r,q,p])\n",
    "drqp = np.linalg.det(rqp)\n",
    "print (rqp)\n",
    "print(drqp)"
   ]
  },
  {
   "cell_type": "code",
   "execution_count": null,
   "metadata": {},
   "outputs": [],
   "source": [
    "rps = np.array([r,p,s])\n",
    "drps = np.linalg.det(rps)\n",
    "print (rps)\n",
    "print(drps)"
   ]
  },
  {
   "cell_type": "code",
   "execution_count": null,
   "metadata": {},
   "outputs": [],
   "source": [
    "rsq = np.array([r,s,q])\n",
    "drsq = np.linalg.det(rsq)\n",
    "print (rsq)\n",
    "print(drsq)"
   ]
  },
  {
   "cell_type": "code",
   "execution_count": null,
   "metadata": {},
   "outputs": [],
   "source": [
    "SRQ = np.array([S,R,Q])\n",
    "dSRQ = np.linalg.det(SRQ)\n",
    "print (SRQ)\n",
    "print(dSRQ)"
   ]
  },
  {
   "cell_type": "code",
   "execution_count": null,
   "metadata": {},
   "outputs": [],
   "source": [
    "PRS = np.array([P,R,S])\n",
    "dPRS = np.linalg.det(PRS)\n",
    "print (PRS)\n",
    "print(dPRS)"
   ]
  },
  {
   "cell_type": "code",
   "execution_count": null,
   "metadata": {},
   "outputs": [],
   "source": [
    "QRP = np.array([Q,R,P])\n",
    "dQRP = np.linalg.det(QRP)\n",
    "print (QRP)\n",
    "print(dQRP)"
   ]
  },
  {
   "cell_type": "code",
   "execution_count": null,
   "metadata": {},
   "outputs": [],
   "source": [
    "sqP = np.outer(sq,P)\n",
    "print(sqP)"
   ]
  },
  {
   "cell_type": "code",
   "execution_count": null,
   "metadata": {},
   "outputs": [],
   "source": [
    "psQ = np.outer(ps,Q)\n",
    "print(psQ)"
   ]
  },
  {
   "cell_type": "code",
   "execution_count": null,
   "metadata": {},
   "outputs": [],
   "source": [
    "qpS = np.outer(qp,S)\n",
    "print(qpS)"
   ]
  },
  {
   "cell_type": "code",
   "execution_count": null,
   "metadata": {},
   "outputs": [],
   "source": [
    "T1 = drqp*drps*dSRQ*sqP\n",
    "print(T1)"
   ]
  },
  {
   "cell_type": "code",
   "execution_count": null,
   "metadata": {},
   "outputs": [],
   "source": [
    "T2 = drqp*drsq*dPRS*psQ\n",
    "print(T2)"
   ]
  },
  {
   "cell_type": "code",
   "execution_count": null,
   "metadata": {},
   "outputs": [],
   "source": [
    "T3 = drps*drsq*dQRP*qpS\n",
    "print(T3)"
   ]
  },
  {
   "cell_type": "code",
   "execution_count": null,
   "metadata": {},
   "outputs": [],
   "source": [
    "T = T1+T2+T3\n",
    "print(T)"
   ]
  },
  {
   "cell_type": "code",
   "execution_count": null,
   "metadata": {},
   "outputs": [],
   "source": [
    "dT = np.linalg.det(T)\n",
    "print(dT)"
   ]
  },
  {
   "cell_type": "code",
   "execution_count": null,
   "metadata": {},
   "outputs": [],
   "source": [
    "qT = np.matmul(q,T)\n",
    "print(qT)"
   ]
  },
  {
   "cell_type": "code",
   "execution_count": null,
   "metadata": {},
   "outputs": [],
   "source": [
    "Q"
   ]
  },
  {
   "cell_type": "code",
   "execution_count": null,
   "metadata": {},
   "outputs": [],
   "source": [
    "beta = Q[0]/qT[0]\n",
    "print(beta)"
   ]
  },
  {
   "cell_type": "code",
   "execution_count": null,
   "metadata": {},
   "outputs": [],
   "source": [
    "pT = np.matmul(p,T)\n",
    "print(pT)"
   ]
  },
  {
   "cell_type": "code",
   "execution_count": null,
   "metadata": {},
   "outputs": [],
   "source": [
    "P"
   ]
  },
  {
   "cell_type": "code",
   "execution_count": null,
   "metadata": {},
   "outputs": [],
   "source": [
    "alpha = P[0]/pT[0]\n",
    "print(alpha)"
   ]
  },
  {
   "cell_type": "code",
   "execution_count": null,
   "metadata": {},
   "outputs": [],
   "source": [
    "sT = np.matmul(s,T)\n",
    "print(sT)"
   ]
  },
  {
   "cell_type": "code",
   "execution_count": null,
   "metadata": {},
   "outputs": [],
   "source": [
    "S"
   ]
  },
  {
   "cell_type": "code",
   "execution_count": null,
   "metadata": {},
   "outputs": [],
   "source": [
    "gamma = S[0]/sT[0]\n",
    "print(gamma)"
   ]
  },
  {
   "cell_type": "code",
   "execution_count": null,
   "metadata": {},
   "outputs": [],
   "source": [
    "rT = np.matmul(r,T)\n",
    "print(rT)"
   ]
  },
  {
   "cell_type": "code",
   "execution_count": null,
   "metadata": {},
   "outputs": [],
   "source": [
    "R"
   ]
  },
  {
   "cell_type": "code",
   "execution_count": null,
   "metadata": {},
   "outputs": [],
   "source": [
    "delta = R[0]/rT[0]"
   ]
  },
  {
   "cell_type": "code",
   "execution_count": null,
   "metadata": {},
   "outputs": [],
   "source": [
    "T = alpha*T"
   ]
  },
  {
   "cell_type": "code",
   "execution_count": null,
   "metadata": {},
   "outputs": [],
   "source": [
    "dT2 = np.linalg.det(T)\n",
    "print(dT2)"
   ]
  },
  {
   "cell_type": "code",
   "execution_count": null,
   "metadata": {},
   "outputs": [],
   "source": [
    "dTac = np.linalg.det(Tac)\n",
    "print(dTac)"
   ]
  },
  {
   "cell_type": "code",
   "execution_count": null,
   "metadata": {},
   "outputs": [],
   "source": [
    "dT2*dT2*3/4"
   ]
  },
  {
   "cell_type": "code",
   "execution_count": null,
   "metadata": {},
   "outputs": [],
   "source": [
    "3/8"
   ]
  },
  {
   "cell_type": "code",
   "execution_count": null,
   "metadata": {},
   "outputs": [],
   "source": [
    "dTab = np.linalg.det(Tab)\n",
    "print(dTab)"
   ]
  },
  {
   "cell_type": "code",
   "execution_count": null,
   "metadata": {},
   "outputs": [],
   "source": [
    "dTbc = np.linalg.det(Tbc)\n",
    "print(dTbc)"
   ]
  },
  {
   "cell_type": "code",
   "execution_count": null,
   "metadata": {},
   "outputs": [],
   "source": [
    "dTab*dTbc"
   ]
  },
  {
   "cell_type": "code",
   "execution_count": null,
   "metadata": {},
   "outputs": [],
   "source": [
    "(dTab*dTbc)**2*3/4"
   ]
  },
  {
   "cell_type": "code",
   "execution_count": null,
   "metadata": {},
   "outputs": [],
   "source": [
    "Quadrance_B = dTab**2*3/4\n",
    "Quadrance_B"
   ]
  },
  {
   "cell_type": "code",
   "execution_count": null,
   "metadata": {},
   "outputs": [],
   "source": [
    "Quadrance_B*dTbc**2"
   ]
  },
  {
   "cell_type": "code",
   "execution_count": null,
   "metadata": {},
   "outputs": [],
   "source": [
    "dTcb = np.linalg.det(Tcb)\n",
    "print(dTcb)"
   ]
  },
  {
   "cell_type": "code",
   "execution_count": null,
   "metadata": {},
   "outputs": [],
   "source": [
    "0.375*dTcb**2"
   ]
  },
  {
   "cell_type": "code",
   "execution_count": null,
   "metadata": {},
   "outputs": [],
   "source": [
    "dTcb*dTbc"
   ]
  },
  {
   "cell_type": "code",
   "execution_count": null,
   "metadata": {},
   "outputs": [],
   "source": []
  },
  {
   "cell_type": "code",
   "execution_count": 39,
   "metadata": {},
   "outputs": [
    {
     "name": "stdout",
     "output_type": "stream",
     "text": [
      "[[0.70710678 0.         0.70710678]\n",
      " [0.         0.70710678 0.70710678]\n",
      " [0.         1.         0.        ]]\n"
     ]
    }
   ],
   "source": [
    "A1 = np.array([p,q,s])\n",
    "print(A1)"
   ]
  },
  {
   "cell_type": "code",
   "execution_count": 40,
   "metadata": {},
   "outputs": [
    {
     "name": "stdout",
     "output_type": "stream",
     "text": [
      "[[0.70710678 0.         0.70710678]\n",
      " [0.         1.         0.        ]\n",
      " [1.         0.         0.        ]]\n"
     ]
    }
   ],
   "source": [
    "A2 = np.array([p,s,r])\n",
    "print(A2)"
   ]
  },
  {
   "cell_type": "code",
   "execution_count": 41,
   "metadata": {},
   "outputs": [
    {
     "name": "stdout",
     "output_type": "stream",
     "text": [
      "[[0.70710678 0.         0.70710678]\n",
      " [0.         0.70710678 0.70710678]\n",
      " [1.         0.         0.        ]]\n"
     ]
    }
   ],
   "source": [
    "A3 = np.array([p,q,r])\n",
    "print(A3)"
   ]
  },
  {
   "cell_type": "code",
   "execution_count": 42,
   "metadata": {},
   "outputs": [
    {
     "name": "stdout",
     "output_type": "stream",
     "text": [
      "[[0.         0.70710678 0.70710678]\n",
      " [0.         1.         0.        ]\n",
      " [1.         0.         0.        ]]\n"
     ]
    }
   ],
   "source": [
    "A4 = np.array([q,s,r])\n",
    "print(A4)"
   ]
  },
  {
   "cell_type": "code",
   "execution_count": 43,
   "metadata": {},
   "outputs": [
    {
     "name": "stdout",
     "output_type": "stream",
     "text": [
      "[[8.66025404e-01 0.00000000e+00 5.00000000e-01]\n",
      " [5.30287619e-17 8.66025404e-01 5.00000000e-01]\n",
      " [6.12323400e-17 1.00000000e+00 6.12323400e-17]]\n"
     ]
    }
   ],
   "source": [
    "C1 = np.array([P,Q,S])\n",
    "print(C1)"
   ]
  },
  {
   "cell_type": "code",
   "execution_count": 44,
   "metadata": {},
   "outputs": [
    {
     "name": "stdout",
     "output_type": "stream",
     "text": [
      "[[8.66025404e-01 0.00000000e+00 5.00000000e-01]\n",
      " [6.12323400e-17 1.00000000e+00 6.12323400e-17]\n",
      " [1.00000000e+00 0.00000000e+00 6.12323400e-17]]\n"
     ]
    }
   ],
   "source": [
    "C2 = np.array([P,S,R])\n",
    "print(C2)"
   ]
  },
  {
   "cell_type": "code",
   "execution_count": 45,
   "metadata": {},
   "outputs": [
    {
     "name": "stdout",
     "output_type": "stream",
     "text": [
      "[[8.66025404e-01 0.00000000e+00 5.00000000e-01]\n",
      " [5.30287619e-17 8.66025404e-01 5.00000000e-01]\n",
      " [1.00000000e+00 0.00000000e+00 6.12323400e-17]]\n"
     ]
    }
   ],
   "source": [
    "C3 = np.array([P,Q,R])\n",
    "print(C3)"
   ]
  },
  {
   "cell_type": "code",
   "execution_count": 46,
   "metadata": {},
   "outputs": [
    {
     "name": "stdout",
     "output_type": "stream",
     "text": [
      "[[0.         0.70710678 0.70710678]\n",
      " [0.         1.         0.        ]\n",
      " [1.         0.         0.        ]]\n"
     ]
    }
   ],
   "source": [
    "C4 = np.array([Q,S,R])\n",
    "print(A4)"
   ]
  },
  {
   "cell_type": "code",
   "execution_count": 47,
   "metadata": {},
   "outputs": [
    {
     "name": "stdout",
     "output_type": "stream",
     "text": [
      "[[7.50000000e-01 4.33012702e-01 5.00000000e-01]\n",
      " [4.33012702e-01 7.50000000e-01 5.00000000e-01]\n",
      " [5.00000000e-01 8.66025404e-01 6.12323400e-17]]\n"
     ]
    }
   ],
   "source": [
    "B1 = np.array([b1,b2,b3])\n",
    "print(B1)"
   ]
  },
  {
   "cell_type": "code",
   "execution_count": 48,
   "metadata": {},
   "outputs": [
    {
     "name": "stdout",
     "output_type": "stream",
     "text": [
      "[[7.50000000e-01 4.33012702e-01 5.00000000e-01]\n",
      " [5.00000000e-01 8.66025404e-01 6.12323400e-17]\n",
      " [8.66025404e-01 5.00000000e-01 6.12323400e-17]]\n"
     ]
    }
   ],
   "source": [
    "B2 = np.array([b1,b3,b4])\n",
    "print(B2)"
   ]
  },
  {
   "cell_type": "code",
   "execution_count": 49,
   "metadata": {},
   "outputs": [
    {
     "name": "stdout",
     "output_type": "stream",
     "text": [
      "[[7.50000000e-01 4.33012702e-01 5.00000000e-01]\n",
      " [4.33012702e-01 7.50000000e-01 5.00000000e-01]\n",
      " [8.66025404e-01 5.00000000e-01 6.12323400e-17]]\n"
     ]
    }
   ],
   "source": [
    "B3 = np.array([b1,b2,b4])\n",
    "print(B3)"
   ]
  },
  {
   "cell_type": "code",
   "execution_count": 50,
   "metadata": {},
   "outputs": [
    {
     "name": "stdout",
     "output_type": "stream",
     "text": [
      "[[4.33012702e-01 7.50000000e-01 5.00000000e-01]\n",
      " [5.00000000e-01 8.66025404e-01 6.12323400e-17]\n",
      " [8.66025404e-01 5.00000000e-01 6.12323400e-17]]\n"
     ]
    }
   ],
   "source": [
    "B4 = np.array([b2,b3,b4])\n",
    "print(B4)"
   ]
  },
  {
   "cell_type": "code",
   "execution_count": 51,
   "metadata": {},
   "outputs": [
    {
     "name": "stdout",
     "output_type": "stream",
     "text": [
      "[[0.70710678 0.         0.        ]\n",
      " [0.         0.70710678 1.        ]\n",
      " [0.70710678 0.70710678 0.        ]]\n"
     ]
    }
   ],
   "source": [
    "A1t = A1.transpose()\n",
    "print(A1t)"
   ]
  },
  {
   "cell_type": "code",
   "execution_count": 52,
   "metadata": {},
   "outputs": [
    {
     "name": "stdout",
     "output_type": "stream",
     "text": [
      "[[0.70710678 0.         1.        ]\n",
      " [0.         1.         0.        ]\n",
      " [0.70710678 0.         0.        ]]\n"
     ]
    }
   ],
   "source": [
    "A2t = A2.transpose()\n",
    "print(A2t)"
   ]
  },
  {
   "cell_type": "code",
   "execution_count": 53,
   "metadata": {},
   "outputs": [
    {
     "name": "stdout",
     "output_type": "stream",
     "text": [
      "[[0.70710678 0.         1.        ]\n",
      " [0.         0.70710678 0.        ]\n",
      " [0.70710678 0.70710678 0.        ]]\n"
     ]
    }
   ],
   "source": [
    "A3t = A3.transpose()\n",
    "print(A3t)"
   ]
  },
  {
   "cell_type": "code",
   "execution_count": 54,
   "metadata": {},
   "outputs": [
    {
     "name": "stdout",
     "output_type": "stream",
     "text": [
      "[[0.         0.         1.        ]\n",
      " [0.70710678 1.         0.        ]\n",
      " [0.70710678 0.         0.        ]]\n"
     ]
    }
   ],
   "source": [
    "A4t = A4.transpose()\n",
    "print(A4t)"
   ]
  },
  {
   "cell_type": "code",
   "execution_count": 55,
   "metadata": {},
   "outputs": [
    {
     "name": "stdout",
     "output_type": "stream",
     "text": [
      "[[7.50000000e-01 4.33012702e-01 5.00000000e-01]\n",
      " [4.33012702e-01 7.50000000e-01 8.66025404e-01]\n",
      " [5.00000000e-01 5.00000000e-01 6.12323400e-17]]\n"
     ]
    }
   ],
   "source": [
    "B1t = B1.transpose()\n",
    "print(B1t)"
   ]
  },
  {
   "cell_type": "code",
   "execution_count": 56,
   "metadata": {},
   "outputs": [
    {
     "name": "stdout",
     "output_type": "stream",
     "text": [
      "[[7.50000000e-01 5.00000000e-01 8.66025404e-01]\n",
      " [4.33012702e-01 8.66025404e-01 5.00000000e-01]\n",
      " [5.00000000e-01 6.12323400e-17 6.12323400e-17]]\n"
     ]
    }
   ],
   "source": [
    "B2t = B2.transpose()\n",
    "print(B2t)"
   ]
  },
  {
   "cell_type": "code",
   "execution_count": 57,
   "metadata": {},
   "outputs": [
    {
     "name": "stdout",
     "output_type": "stream",
     "text": [
      "[[7.50000000e-01 4.33012702e-01 8.66025404e-01]\n",
      " [4.33012702e-01 7.50000000e-01 5.00000000e-01]\n",
      " [5.00000000e-01 5.00000000e-01 6.12323400e-17]]\n"
     ]
    }
   ],
   "source": [
    "B3t = B3.transpose()\n",
    "print(B3t)"
   ]
  },
  {
   "cell_type": "code",
   "execution_count": 58,
   "metadata": {},
   "outputs": [
    {
     "name": "stdout",
     "output_type": "stream",
     "text": [
      "[[4.33012702e-01 5.00000000e-01 8.66025404e-01]\n",
      " [7.50000000e-01 8.66025404e-01 5.00000000e-01]\n",
      " [5.00000000e-01 6.12323400e-17 6.12323400e-17]]\n"
     ]
    }
   ],
   "source": [
    "B4t = B4.transpose()\n",
    "print(B4t)"
   ]
  },
  {
   "cell_type": "code",
   "execution_count": 59,
   "metadata": {},
   "outputs": [
    {
     "name": "stdout",
     "output_type": "stream",
     "text": [
      "[[8.66025404e-01 5.30287619e-17 6.12323400e-17]\n",
      " [0.00000000e+00 8.66025404e-01 1.00000000e+00]\n",
      " [5.00000000e-01 5.00000000e-01 6.12323400e-17]]\n"
     ]
    }
   ],
   "source": [
    "C1t = C1.transpose()\n",
    "print(C1t)"
   ]
  },
  {
   "cell_type": "code",
   "execution_count": 60,
   "metadata": {},
   "outputs": [
    {
     "name": "stdout",
     "output_type": "stream",
     "text": [
      "[[8.66025404e-01 6.12323400e-17 1.00000000e+00]\n",
      " [0.00000000e+00 1.00000000e+00 0.00000000e+00]\n",
      " [5.00000000e-01 6.12323400e-17 6.12323400e-17]]\n"
     ]
    }
   ],
   "source": [
    "C2t = C2.transpose()\n",
    "print(C2t)"
   ]
  },
  {
   "cell_type": "code",
   "execution_count": 61,
   "metadata": {},
   "outputs": [
    {
     "name": "stdout",
     "output_type": "stream",
     "text": [
      "[[8.66025404e-01 5.30287619e-17 1.00000000e+00]\n",
      " [0.00000000e+00 8.66025404e-01 0.00000000e+00]\n",
      " [5.00000000e-01 5.00000000e-01 6.12323400e-17]]\n"
     ]
    }
   ],
   "source": [
    "C3t = C3.transpose()\n",
    "print(C3t)"
   ]
  },
  {
   "cell_type": "code",
   "execution_count": 62,
   "metadata": {},
   "outputs": [
    {
     "name": "stdout",
     "output_type": "stream",
     "text": [
      "[[5.30287619e-17 6.12323400e-17 1.00000000e+00]\n",
      " [8.66025404e-01 1.00000000e+00 0.00000000e+00]\n",
      " [5.00000000e-01 6.12323400e-17 6.12323400e-17]]\n"
     ]
    }
   ],
   "source": [
    "C4t = C4.transpose()\n",
    "print(C4t)"
   ]
  },
  {
   "cell_type": "code",
   "execution_count": 63,
   "metadata": {},
   "outputs": [
    {
     "data": {
      "text/plain": [
       "array([[1.        , 0.5       , 0.        ],\n",
       "       [0.5       , 1.        , 0.70710678],\n",
       "       [0.        , 0.70710678, 1.        ]])"
      ]
     },
     "execution_count": 63,
     "metadata": {},
     "output_type": "execute_result"
    }
   ],
   "source": [
    "U1 = np.matmul(A1,A1t)\n",
    "U1"
   ]
  },
  {
   "cell_type": "code",
   "execution_count": 64,
   "metadata": {},
   "outputs": [
    {
     "data": {
      "text/plain": [
       "array([[1.        , 0.        , 0.70710678],\n",
       "       [0.        , 1.        , 0.        ],\n",
       "       [0.70710678, 0.        , 1.        ]])"
      ]
     },
     "execution_count": 64,
     "metadata": {},
     "output_type": "execute_result"
    }
   ],
   "source": [
    "U2 = np.matmul(A2,A2t)\n",
    "U2"
   ]
  },
  {
   "cell_type": "code",
   "execution_count": 65,
   "metadata": {},
   "outputs": [
    {
     "data": {
      "text/plain": [
       "array([[1.        , 0.5       , 0.70710678],\n",
       "       [0.5       , 1.        , 0.        ],\n",
       "       [0.70710678, 0.        , 1.        ]])"
      ]
     },
     "execution_count": 65,
     "metadata": {},
     "output_type": "execute_result"
    }
   ],
   "source": [
    "U3 = np.matmul(A3,A3t)\n",
    "U3"
   ]
  },
  {
   "cell_type": "code",
   "execution_count": 66,
   "metadata": {},
   "outputs": [
    {
     "data": {
      "text/plain": [
       "array([[1.        , 0.70710678, 0.        ],\n",
       "       [0.70710678, 1.        , 0.        ],\n",
       "       [0.        , 0.        , 1.        ]])"
      ]
     },
     "execution_count": 66,
     "metadata": {},
     "output_type": "execute_result"
    }
   ],
   "source": [
    "U4 = np.matmul(A4,A4t)\n",
    "U4"
   ]
  },
  {
   "cell_type": "code",
   "execution_count": 67,
   "metadata": {},
   "outputs": [
    {
     "data": {
      "text/plain": [
       "array([[1.        , 0.89951905, 0.75      ],\n",
       "       [0.89951905, 1.        , 0.8660254 ],\n",
       "       [0.75      , 0.8660254 , 1.        ]])"
      ]
     },
     "execution_count": 67,
     "metadata": {},
     "output_type": "execute_result"
    }
   ],
   "source": [
    "V1 = np.matmul(B1,B1t)\n",
    "V1"
   ]
  },
  {
   "cell_type": "code",
   "execution_count": 68,
   "metadata": {},
   "outputs": [
    {
     "data": {
      "text/plain": [
       "array([[1.       , 0.75     , 0.8660254],\n",
       "       [0.75     , 1.       , 0.8660254],\n",
       "       [0.8660254, 0.8660254, 1.       ]])"
      ]
     },
     "execution_count": 68,
     "metadata": {},
     "output_type": "execute_result"
    }
   ],
   "source": [
    "V2 = np.matmul(B2,B2t)\n",
    "V2"
   ]
  },
  {
   "cell_type": "code",
   "execution_count": 69,
   "metadata": {},
   "outputs": [
    {
     "data": {
      "text/plain": [
       "array([[1.        , 0.89951905, 0.8660254 ],\n",
       "       [0.89951905, 1.        , 0.75      ],\n",
       "       [0.8660254 , 0.75      , 1.        ]])"
      ]
     },
     "execution_count": 69,
     "metadata": {},
     "output_type": "execute_result"
    }
   ],
   "source": [
    "V3 = np.matmul(B3,B3t)\n",
    "V3"
   ]
  },
  {
   "cell_type": "code",
   "execution_count": 70,
   "metadata": {},
   "outputs": [
    {
     "data": {
      "text/plain": [
       "array([[1.       , 0.8660254, 0.75     ],\n",
       "       [0.8660254, 1.       , 0.8660254],\n",
       "       [0.75     , 0.8660254, 1.       ]])"
      ]
     },
     "execution_count": 70,
     "metadata": {},
     "output_type": "execute_result"
    }
   ],
   "source": [
    "V4 = np.matmul(B4,B4t)\n",
    "V4"
   ]
  },
  {
   "cell_type": "code",
   "execution_count": 71,
   "metadata": {},
   "outputs": [
    {
     "data": {
      "text/plain": [
       "array([[1.00000000e+00, 2.50000000e-01, 8.36449319e-17],\n",
       "       [2.50000000e-01, 1.00000000e+00, 8.66025404e-01],\n",
       "       [8.36449319e-17, 8.66025404e-01, 1.00000000e+00]])"
      ]
     },
     "execution_count": 71,
     "metadata": {},
     "output_type": "execute_result"
    }
   ],
   "source": [
    "W1 = np.matmul(C1,C1t)\n",
    "W1"
   ]
  },
  {
   "cell_type": "code",
   "execution_count": 72,
   "metadata": {},
   "outputs": [
    {
     "data": {
      "text/plain": [
       "array([[1.00000000e+00, 8.36449319e-17, 8.66025404e-01],\n",
       "       [8.36449319e-17, 1.00000000e+00, 6.12323400e-17],\n",
       "       [8.66025404e-01, 6.12323400e-17, 1.00000000e+00]])"
      ]
     },
     "execution_count": 72,
     "metadata": {},
     "output_type": "execute_result"
    }
   ],
   "source": [
    "W2 = np.matmul(C2,C2t)\n",
    "W2"
   ]
  },
  {
   "cell_type": "code",
   "execution_count": 73,
   "metadata": {},
   "outputs": [
    {
     "data": {
      "text/plain": [
       "array([[1.00000000e+00, 2.50000000e-01, 8.66025404e-01],\n",
       "       [2.50000000e-01, 1.00000000e+00, 8.36449319e-17],\n",
       "       [8.66025404e-01, 8.36449319e-17, 1.00000000e+00]])"
      ]
     },
     "execution_count": 73,
     "metadata": {},
     "output_type": "execute_result"
    }
   ],
   "source": [
    "W3 = np.matmul(C3,C3t)\n",
    "W3"
   ]
  },
  {
   "cell_type": "code",
   "execution_count": 74,
   "metadata": {},
   "outputs": [
    {
     "data": {
      "text/plain": [
       "array([[1.00000000e+00, 8.66025404e-01, 8.36449319e-17],\n",
       "       [8.66025404e-01, 1.00000000e+00, 6.12323400e-17],\n",
       "       [8.36449319e-17, 6.12323400e-17, 1.00000000e+00]])"
      ]
     },
     "execution_count": 74,
     "metadata": {},
     "output_type": "execute_result"
    }
   ],
   "source": [
    "W4 = np.matmul(C4,C4t)\n",
    "W4"
   ]
  },
  {
   "cell_type": "code",
   "execution_count": 75,
   "metadata": {},
   "outputs": [
    {
     "data": {
      "text/plain": [
       "0.2499999999999999"
      ]
     },
     "execution_count": 75,
     "metadata": {},
     "output_type": "execute_result"
    }
   ],
   "source": [
    "Quadrance_A1 = np.linalg.det(U1)/(U1[0,0]*U1[1,1]*U1[2,2])\n",
    "Quadrance_A1"
   ]
  },
  {
   "cell_type": "code",
   "execution_count": 76,
   "metadata": {},
   "outputs": [
    {
     "data": {
      "text/plain": [
       "0.5"
      ]
     },
     "execution_count": 76,
     "metadata": {},
     "output_type": "execute_result"
    }
   ],
   "source": [
    "Quadrance_A2 = np.linalg.det(U2)/(U2[0,0]*U2[1,1]*U2[2,2])\n",
    "Quadrance_A2"
   ]
  },
  {
   "cell_type": "code",
   "execution_count": 77,
   "metadata": {},
   "outputs": [
    {
     "data": {
      "text/plain": [
       "0.2499999999999999"
      ]
     },
     "execution_count": 77,
     "metadata": {},
     "output_type": "execute_result"
    }
   ],
   "source": [
    "Quadrance_A3 = np.linalg.det(U3)/(U3[0,0]*U3[1,1]*U3[2,2])\n",
    "Quadrance_A3"
   ]
  },
  {
   "cell_type": "code",
   "execution_count": 78,
   "metadata": {},
   "outputs": [
    {
     "data": {
      "text/plain": [
       "0.5"
      ]
     },
     "execution_count": 78,
     "metadata": {},
     "output_type": "execute_result"
    }
   ],
   "source": [
    "Quadrance_A4 = np.linalg.det(U4)/(U4[0,0]*U4[1,1]*U4[2,2])\n",
    "Quadrance_A4"
   ]
  },
  {
   "cell_type": "code",
   "execution_count": 79,
   "metadata": {},
   "outputs": [
    {
     "data": {
      "text/plain": [
       "0.04687499999999999"
      ]
     },
     "execution_count": 79,
     "metadata": {},
     "output_type": "execute_result"
    }
   ],
   "source": [
    "Quadrance_B1 = np.linalg.det(V1)/(V1[0,0]*V1[1,1]*V1[2,2])\n",
    "Quadrance_B1"
   ]
  },
  {
   "cell_type": "code",
   "execution_count": null,
   "metadata": {},
   "outputs": [],
   "source": [
    "Quadrance_B2 = np.linalg.det(V2)/(V2[0,0]*V2[1,1]*V2[2,2])\n",
    "Quadrance_B2"
   ]
  },
  {
   "cell_type": "code",
   "execution_count": null,
   "metadata": {},
   "outputs": [],
   "source": [
    "Quadrance_B3 = np.linalg.det(V3)/(V3[0,0]*V3[1,1]*V3[2,2])\n",
    "Quadrance_B3"
   ]
  },
  {
   "cell_type": "code",
   "execution_count": null,
   "metadata": {},
   "outputs": [],
   "source": [
    "Quadrance_B4 = np.linalg.det(V4)/(V4[0,0]*V4[1,1]*V4[2,2])\n",
    "Quadrance_B4"
   ]
  },
  {
   "cell_type": "code",
   "execution_count": null,
   "metadata": {},
   "outputs": [],
   "source": [
    "dTab = np.linalg.det(Tab)\n",
    "dTab"
   ]
  },
  {
   "cell_type": "code",
   "execution_count": null,
   "metadata": {},
   "outputs": [],
   "source": [
    "Quadrance_A1*dTab**2/((np.linalg.norm(np.matmul(p,Tab)))**2 * (np.linalg.norm(np.matmul(q,Tab)))**2 *(np.linalg.norm(np.matmul(s,Tab)))**2)"
   ]
  },
  {
   "cell_type": "code",
   "execution_count": null,
   "metadata": {},
   "outputs": [],
   "source": [
    "Quadrance_A2*dTab**2/((np.linalg.norm(np.matmul(p,Tab)))**2 * (np.linalg.norm(np.matmul(s,Tab)))**2 *(np.linalg.norm(np.matmul(r,Tab)))**2)"
   ]
  },
  {
   "cell_type": "code",
   "execution_count": null,
   "metadata": {},
   "outputs": [],
   "source": [
    "Quadrance_A3*dTab**2/((np.linalg.norm(np.matmul(p,Tab)))**2 * (np.linalg.norm(np.matmul(q,Tab)))**2 *(np.linalg.norm(np.matmul(r,Tab)))**2)"
   ]
  },
  {
   "cell_type": "code",
   "execution_count": null,
   "metadata": {},
   "outputs": [],
   "source": [
    "Quadrance_A4*dTab**2/((np.linalg.norm(np.matmul(q,Tab)))**2 * (np.linalg.norm(np.matmul(s,Tab)))**2 *(np.linalg.norm(np.matmul(r,Tab)))**2)"
   ]
  },
  {
   "cell_type": "code",
   "execution_count": null,
   "metadata": {},
   "outputs": [],
   "source": [
    "Quadrance_C1 = np.linalg.det(W1)/(W1[0,0]*W1[1,1]*W1[2,2])\n",
    "Quadrance_C1"
   ]
  },
  {
   "cell_type": "code",
   "execution_count": null,
   "metadata": {},
   "outputs": [],
   "source": [
    "Quadrance_C2 = np.linalg.det(W2)/(W2[0,0]*W2[1,1]*W2[2,2])\n",
    "Quadrance_C2"
   ]
  },
  {
   "cell_type": "code",
   "execution_count": null,
   "metadata": {},
   "outputs": [],
   "source": [
    "Quadrance_C3 = np.linalg.det(W3)/(W3[0,0]*W3[1,1]*W3[2,2])\n",
    "Quadrance_C3"
   ]
  },
  {
   "cell_type": "code",
   "execution_count": null,
   "metadata": {},
   "outputs": [],
   "source": [
    "Quadrance_C4 = np.linalg.det(W4)/(W4[0,0]*W4[1,1]*W4[2,2])\n",
    "Quadrance_C4"
   ]
  },
  {
   "cell_type": "code",
   "execution_count": null,
   "metadata": {},
   "outputs": [],
   "source": [
    "dTbc = np.linalg.det(Tbc)\n",
    "dTbc"
   ]
  },
  {
   "cell_type": "code",
   "execution_count": null,
   "metadata": {},
   "outputs": [],
   "source": [
    "Quadrance_A1*dTab**2*dTbc**2/(((np.linalg.norm(np.matmul(p,Tab)))**2 * (np.linalg.norm(np.matmul(q,Tab)))**2 *(np.linalg.norm(np.matmul(s,Tab)))**2) * ((np.linalg.norm(np.matmul(b1,Tbc)))**2 * (np.linalg.norm(np.matmul(b2,Tbc)))**2 *(np.linalg.norm(np.matmul(b3,Tbc)))**2))"
   ]
  },
  {
   "cell_type": "code",
   "execution_count": null,
   "metadata": {},
   "outputs": [],
   "source": [
    "Quadrance_A2*dTab**2*dTbc**2/(((np.linalg.norm(np.matmul(p,Tab)))**2 * (np.linalg.norm(np.matmul(s,Tab)))**2 *(np.linalg.norm(np.matmul(r,Tab)))**2) * ((np.linalg.norm(np.matmul(b1,Tbc)))**2 * (np.linalg.norm(np.matmul(b3,Tbc)))**2 *(np.linalg.norm(np.matmul(b4,Tbc)))**2))"
   ]
  },
  {
   "cell_type": "code",
   "execution_count": null,
   "metadata": {},
   "outputs": [],
   "source": [
    "Quadrance_A3*dTab**2*dTbc**2/(((np.linalg.norm(np.matmul(p,Tab)))**2 * (np.linalg.norm(np.matmul(q,Tab)))**2 *(np.linalg.norm(np.matmul(r,Tab)))**2) * ((np.linalg.norm(np.matmul(b1,Tbc)))**2 * (np.linalg.norm(np.matmul(b2,Tbc)))**2 *(np.linalg.norm(np.matmul(b4,Tbc)))**2))"
   ]
  },
  {
   "cell_type": "code",
   "execution_count": null,
   "metadata": {},
   "outputs": [],
   "source": [
    "Quadrance_A4*dTab**2*dTbc**2/(((np.linalg.norm(np.matmul(q,Tab)))**2 * (np.linalg.norm(np.matmul(s,Tab)))**2 *(np.linalg.norm(np.matmul(r,Tab)))**2) * ((np.linalg.norm(np.matmul(b2,Tbc)))**2 * (np.linalg.norm(np.matmul(b3,Tbc)))**2 *(np.linalg.norm(np.matmul(b4,Tbc)))**2))"
   ]
  },
  {
   "cell_type": "code",
   "execution_count": null,
   "metadata": {},
   "outputs": [],
   "source": [
    "dTac = np.linalg.det(Tac)\n",
    "dTac"
   ]
  },
  {
   "cell_type": "code",
   "execution_count": null,
   "metadata": {},
   "outputs": [],
   "source": [
    "Quadrance_A1*dTac**2"
   ]
  },
  {
   "cell_type": "code",
   "execution_count": null,
   "metadata": {},
   "outputs": [],
   "source": [
    "Quadrance_A1*dTac**2/((np.linalg.norm(np.matmul(p,Tac)))**2 * (np.linalg.norm(np.matmul(q,Tac)))**2 *(np.linalg.norm(np.matmul(s,Tac)))**2)"
   ]
  },
  {
   "cell_type": "code",
   "execution_count": null,
   "metadata": {},
   "outputs": [],
   "source": [
    "Quadrance_A2*dTac**2/((np.linalg.norm(np.matmul(p,Tac)))**2 * (np.linalg.norm(np.matmul(s,Tac)))**2 *(np.linalg.norm(np.matmul(r,Tac)))**2)"
   ]
  },
  {
   "cell_type": "code",
   "execution_count": null,
   "metadata": {},
   "outputs": [],
   "source": [
    "Quadrance_A3*dTac**2/((np.linalg.norm(np.matmul(p,Tac)))**2 * (np.linalg.norm(np.matmul(q,Tac)))**2 *(np.linalg.norm(np.matmul(r,Tac)))**2)"
   ]
  },
  {
   "cell_type": "code",
   "execution_count": null,
   "metadata": {},
   "outputs": [],
   "source": [
    "Quadrance_A4*dTac**2/((np.linalg.norm(np.matmul(q,Tac)))**2 * (np.linalg.norm(np.matmul(s,Tac)))**2 *(np.linalg.norm(np.matmul(r,Tac)))**2)"
   ]
  },
  {
   "cell_type": "code",
   "execution_count": null,
   "metadata": {},
   "outputs": [],
   "source": []
  },
  {
   "cell_type": "code",
   "execution_count": null,
   "metadata": {},
   "outputs": [],
   "source": []
  }
 ],
 "metadata": {
  "@webio": {
   "lastCommId": null,
   "lastKernelId": null
  },
  "kernelspec": {
   "display_name": "Python 3",
   "language": "python",
   "name": "python3"
  },
  "language_info": {
   "codemirror_mode": {
    "name": "ipython",
    "version": 3
   },
   "file_extension": ".py",
   "mimetype": "text/x-python",
   "name": "python",
   "nbconvert_exporter": "python",
   "pygments_lexer": "ipython3",
   "version": "3.7.6"
  }
 },
 "nbformat": 4,
 "nbformat_minor": 4
}
